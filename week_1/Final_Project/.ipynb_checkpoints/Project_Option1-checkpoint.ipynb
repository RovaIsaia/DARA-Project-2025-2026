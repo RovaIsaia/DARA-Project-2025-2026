{
 "cells": [
  {
   "cell_type": "code",
   "execution_count": 1,
   "metadata": {
    "tags": []
   },
   "outputs": [],
   "source": [
    "# Import necessary libraries\n",
    "import numpy as np \n",
    "import pandas as pd \n",
    "import matplotlib.pyplot as plt \n",
    "from collections import Counter  # For counting actor occurrences"
   ]
  },
  {
   "cell_type": "code",
   "execution_count": 2,
   "metadata": {
    "tags": []
   },
   "outputs": [],
   "source": [
    "# Load the movie dataset from CSV file\n",
    "df = pd.read_csv('movie_dataset.csv')"
   ]
  },
  {
   "cell_type": "code",
   "execution_count": 3,
   "metadata": {
    "tags": []
   },
   "outputs": [
    {
     "data": {
      "text/html": [
       "<div>\n",
       "<style scoped>\n",
       "    .dataframe tbody tr th:only-of-type {\n",
       "        vertical-align: middle;\n",
       "    }\n",
       "\n",
       "    .dataframe tbody tr th {\n",
       "        vertical-align: top;\n",
       "    }\n",
       "\n",
       "    .dataframe thead th {\n",
       "        text-align: right;\n",
       "    }\n",
       "</style>\n",
       "<table border=\"1\" class=\"dataframe\">\n",
       "  <thead>\n",
       "    <tr style=\"text-align: right;\">\n",
       "      <th></th>\n",
       "      <th>Rank</th>\n",
       "      <th>Title</th>\n",
       "      <th>Genre</th>\n",
       "      <th>Description</th>\n",
       "      <th>Director</th>\n",
       "      <th>Actors</th>\n",
       "      <th>Year</th>\n",
       "      <th>Runtime (Minutes)</th>\n",
       "      <th>Rating</th>\n",
       "      <th>Votes</th>\n",
       "      <th>Revenue (Millions)</th>\n",
       "      <th>Metascore</th>\n",
       "    </tr>\n",
       "  </thead>\n",
       "  <tbody>\n",
       "    <tr>\n",
       "      <th>0</th>\n",
       "      <td>1</td>\n",
       "      <td>Guardians of the Galaxy</td>\n",
       "      <td>Action,Adventure,Sci-Fi</td>\n",
       "      <td>A group of intergalactic criminals are forced ...</td>\n",
       "      <td>James Gunn</td>\n",
       "      <td>Chris Pratt, Vin Diesel, Bradley Cooper, Zoe S...</td>\n",
       "      <td>2014</td>\n",
       "      <td>121</td>\n",
       "      <td>8.1</td>\n",
       "      <td>757074</td>\n",
       "      <td>333.13</td>\n",
       "      <td>76.0</td>\n",
       "    </tr>\n",
       "    <tr>\n",
       "      <th>1</th>\n",
       "      <td>2</td>\n",
       "      <td>Prometheus</td>\n",
       "      <td>Adventure,Mystery,Sci-Fi</td>\n",
       "      <td>Following clues to the origin of mankind, a te...</td>\n",
       "      <td>Ridley Scott</td>\n",
       "      <td>Noomi Rapace, Logan Marshall-Green, Michael Fa...</td>\n",
       "      <td>2012</td>\n",
       "      <td>124</td>\n",
       "      <td>7.0</td>\n",
       "      <td>485820</td>\n",
       "      <td>126.46</td>\n",
       "      <td>65.0</td>\n",
       "    </tr>\n",
       "  </tbody>\n",
       "</table>\n",
       "</div>"
      ],
      "text/plain": [
       "   Rank                    Title                     Genre  \\\n",
       "0     1  Guardians of the Galaxy   Action,Adventure,Sci-Fi   \n",
       "1     2               Prometheus  Adventure,Mystery,Sci-Fi   \n",
       "\n",
       "                                         Description      Director  \\\n",
       "0  A group of intergalactic criminals are forced ...    James Gunn   \n",
       "1  Following clues to the origin of mankind, a te...  Ridley Scott   \n",
       "\n",
       "                                              Actors  Year  Runtime (Minutes)  \\\n",
       "0  Chris Pratt, Vin Diesel, Bradley Cooper, Zoe S...  2014                121   \n",
       "1  Noomi Rapace, Logan Marshall-Green, Michael Fa...  2012                124   \n",
       "\n",
       "   Rating   Votes  Revenue (Millions)  Metascore  \n",
       "0     8.1  757074              333.13       76.0  \n",
       "1     7.0  485820              126.46       65.0  "
      ]
     },
     "execution_count": 3,
     "metadata": {},
     "output_type": "execute_result"
    }
   ],
   "source": [
    "# Display first 2 rows of the dataframe to inspect data\n",
    "df.head(2)"
   ]
  },
  {
   "cell_type": "code",
   "execution_count": 4,
   "metadata": {},
   "outputs": [
    {
     "data": {
      "text/plain": [
       "Index(['Rank', 'Title', 'Genre', 'Description', 'Director', 'Actors', 'Year',\n",
       "       'Runtime (Minutes)', 'Rating', 'Votes', 'Revenue (Millions)',\n",
       "       'Metascore'],\n",
       "      dtype='object')"
      ]
     },
     "execution_count": 4,
     "metadata": {},
     "output_type": "execute_result"
    }
   ],
   "source": [
    "# Display all column names in the dataframe\n",
    "df.columns"
   ]
  },
  {
   "cell_type": "markdown",
   "metadata": {},
   "source": [
    "# Question 1"
   ]
  },
  {
   "cell_type": "code",
   "execution_count": 7,
   "metadata": {},
   "outputs": [
    {
     "data": {
      "image/png": "[encoded data removed]",
      "text/plain": [
       "<Figure size 640x480 with 1 Axes>"
      ]
     },
     "metadata": {},
     "output_type": "display_data"
    }
   ],
   "source": [
    "# Question 1: Find highest rated movie among specific titles\n",
    "# List of movies to filter\n",
    "films_a_afficher = [\"Jason Bourne\", \"Rogue One\", \"The Dark Knight\", \"Trolls\"]\n",
    "\n",
    "# Filter dataframe to only include these movies\n",
    "df_filtre = df[df[\"Title\"].isin(films_a_afficher)]\n",
    "\n",
    "# Create bar plot of ratings for these movies\n",
    "df_filtre.plot(x=\"Title\", y=\"Rating\", kind=\"bar\", legend=False)\n",
    "plt.title(\"The Highest Rate in the Movies\")\n",
    "plt.ylabel(\"Rating\")\n",
    "plt.xticks(rotation=45) # Rotate names for readability\n",
    "plt.show()"
   ]
  },
  {
   "cell_type": "markdown",
   "metadata": {},
   "source": [
    "# Question 2"
   ]
  },
  {
   "cell_type": "code",
   "execution_count": 30,
   "metadata": {},
   "outputs": [
    {
     "name": "stdout",
     "output_type": "stream",
     "text": [
      "\n",
      "Average movie revenue: 82.96 millions\n"
     ]
    }
   ],
   "source": [
    "# Calculate the Average of the Revenue Columns\n",
    "average_revenue = df['Revenue (Millions)'].mean()\n",
    "\n",
    "# Display the result formatted to 2 decimal places\n",
    "print(f\"\\nAverage movie revenue: {average_revenue:.2f} millions\")"
   ]
  },
  {
   "cell_type": "markdown",
   "metadata": {},
   "source": [
    "# Question 3"
   ]
  },
  {
   "cell_type": "code",
   "execution_count": 31,
   "metadata": {},
   "outputs": [
    {
     "name": "stdout",
     "output_type": "stream",
     "text": [
      "\n",
      "Average revenue for 2015-2017 movies: 68.06 millions\n"
     ]
    }
   ],
   "source": [
    "# Filtrer les films dont l'année est entre 2015 et 2017 inclus\n",
    "df_filtered = df[(df['Year'] >= 2015) & (df['Year'] <= 2017)]\n",
    "\n",
    "# Calculate average revenue for these years\n",
    "average_revenue_filtered = df_filtered['Revenue (Millions)'].mean()\n",
    "\n",
    "# Display result with 2 decimal places\n",
    "print(f\"\\nAverage revenue for 2015-2017 movies: {average_revenue_filtered:.2f} millions\")"
   ]
  },
  {
   "cell_type": "markdown",
   "metadata": {},
   "source": [
    "# Question 4"
   ]
  },
  {
   "cell_type": "code",
   "execution_count": 32,
   "metadata": {},
   "outputs": [
    {
     "name": "stdout",
     "output_type": "stream",
     "text": [
      "Number of movies released in 2016: 297\n"
     ]
    }
   ],
   "source": [
    "# Question 4: Count movies released in 2016\n",
    "# Filter movies from 2016\n",
    "movies_2016 = df[df['Year'] == 2016]\n",
    "\n",
    "# Count number of movies in 2016\n",
    "count_2016 = len(movies_2016)\n",
    "\n",
    "# Display the result\n",
    "print(f\"Number of movies released in 2016: {count_2016}\")"
   ]
  },
  {
   "cell_type": "markdown",
   "metadata": {},
   "source": [
    "# Question 5"
   ]
  },
  {
   "cell_type": "code",
   "execution_count": 33,
   "metadata": {},
   "outputs": [
    {
     "name": "stdout",
     "output_type": "stream",
     "text": [
      "Number of movies directed by Christopher Nolan: 5\n"
     ]
    }
   ],
   "source": [
    "# Question 5: Count Christopher Nolan movies\n",
    "# Filter movies directed by Christopher Nolan\n",
    "nolan_movies = df[df['Director'] == \"Christopher Nolan\"]\n",
    "\n",
    "# To stock the number of nolan movies\n",
    "nolan_movies_count = len(nolan_movies)\n",
    "\n",
    "# Display the result\n",
    "print(f\"Number of movies directed by Christopher Nolan: {nolan_movies_count}\")"
   ]
  },
  {
   "cell_type": "markdown",
   "metadata": {},
   "source": [
    "# Question 6"
   ]
  },
  {
   "cell_type": "code",
   "execution_count": 34,
   "metadata": {},
   "outputs": [
    {
     "name": "stdout",
     "output_type": "stream",
     "text": [
      "Number of movies with rating >= 8.0: 78\n"
     ]
    }
   ],
   "source": [
    "# Question 6: Count movies with rating >= 8\n",
    "# Filter high-rated movies\n",
    "high_rated_movies = df[df['Rating'] >= 8]\n",
    "\n",
    "# To stock the number of the movies with rating >= 8\n",
    "high_rated_count = len(high_rated_movies)\n",
    "\n",
    "# Display the result\n",
    "print(f\"Number of movies with rating >= 8.0: {high_rated_count}\")"
   ]
  },
  {
   "cell_type": "markdown",
   "metadata": {},
   "source": [
    "# Question 7"
   ]
  },
  {
   "cell_type": "code",
   "execution_count": 36,
   "metadata": {},
   "outputs": [
    {
     "name": "stdout",
     "output_type": "stream",
     "text": [
      "\n",
      "The median rating of Christopher Nolan's movies is: 8.6\n"
     ]
    }
   ],
   "source": [
    "# Calculate the median of ratings\n",
    "median_rating = nolan_movies['Rating'].median()\n",
    "\n",
    "# Display the median\n",
    "print(f\"\\nThe median rating of Christopher Nolan's movies is: {median_rating:.1f}\")"
   ]
  },
  {
   "cell_type": "markdown",
   "metadata": {},
   "source": [
    "# Question 8"
   ]
  },
  {
   "cell_type": "code",
   "execution_count": 42,
   "metadata": {},
   "outputs": [
    {
     "name": "stdout",
     "output_type": "stream",
     "text": [
      "The year with the highest average rating is 2007.0 with an average rating of 7.13\n"
     ]
    }
   ],
   "source": [
    "# Calculate average ratings by year\n",
    "average_rating_by_year = df.groupby('Year')['Rating'].mean().reset_index()\n",
    "\n",
    "# Find the year with the highest average rating\n",
    "max_rating_row = average_rating_by_year.loc[average_rating_by_year['Rating'].idxmax()]\n",
    "\n",
    "# Display the result\n",
    "print(f\"The year with the highest average rating is {max_rating_row['Year']} with an average rating of {max_rating_row['Rating']:.2f}\")"
   ]
  },
  {
   "cell_type": "markdown",
   "metadata": {},
   "source": [
    "# Question 9"
   ]
  },
  {
   "cell_type": "code",
   "execution_count": 43,
   "metadata": {},
   "outputs": [
    {
     "name": "stdout",
     "output_type": "stream",
     "text": [
      "Number of movies in 2006: 44\n",
      "Number of movies in 2016: 297\n",
      "Percentage increase: 575%\n"
     ]
    }
   ],
   "source": [
    "# Count movies released in 2006 and 2016\n",
    "count_2006 = df[df['Year'] == 2006].shape[0]\n",
    "count_2016 = df[df['Year'] == 2016].shape[0]\n",
    "\n",
    "# Calculate the percentage increase\n",
    "percentage_increase = ((count_2016 - count_2006) / count_2006) * 100\n",
    "\n",
    "# Display the results\n",
    "print(f\"Number of movies in 2006: {count_2006}\")\n",
    "print(f\"Number of movies in 2016: {count_2016}\")\n",
    "print(f\"Percentage increase: {percentage_increase:.0f}%\")"
   ]
  },
  {
   "cell_type": "markdown",
   "metadata": {},
   "source": [
    "# Question 10"
   ]
  },
  {
   "cell_type": "code",
   "execution_count": 44,
   "metadata": {},
   "outputs": [
    {
     "name": "stdout",
     "output_type": "stream",
     "text": [
      "The most frequent actor is: Mark Wahlberg\n",
      "They appear in 15 films.\n"
     ]
    }
   ],
   "source": [
    "from collections import Counter\n",
    "# Initialize a list to store all actor names\n",
    "all_actors = []\n",
    "\n",
    "# Process each row and split actor names\n",
    "for actors in df['Actors']:\n",
    "    if isinstance(actors, str):  # Verify it's a valid string\n",
    "        actor_list = actors.split(',')  # Split by comma\n",
    "        cleaned_actors = [actor.strip() for actor in actor_list]  # Remove whitespace\n",
    "        all_actors.extend(cleaned_actors)  # Add to global list\n",
    "\n",
    "# Use Counter to count occurrences\n",
    "actor_counts = Counter(all_actors)\n",
    "\n",
    "# Find the most frequent actor\n",
    "most_common_actor, count = actor_counts.most_common(1)[0]\n",
    "\n",
    "# Display the result\n",
    "print(f\"The most frequent actor is: {most_common_actor}\")\n",
    "print(f\"They appear in {count} films.\")"
   ]
  },
  {
   "cell_type": "markdown",
   "metadata": {},
   "source": [
    "# Question 11"
   ]
  },
  {
   "cell_type": "code",
   "execution_count": 45,
   "metadata": {
    "tags": []
   },
   "outputs": [
    {
     "name": "stdout",
     "output_type": "stream",
     "text": [
      "Number of unique genres: 20\n",
      "\n",
      "List of unique genres:\n",
      "['Action', 'Adventure', 'Animation', 'Biography', 'Comedy', 'Crime', 'Drama', 'Family', 'Fantasy', 'History', 'Horror', 'Music', 'Musical', 'Mystery', 'Romance', 'Sci-Fi', 'Sport', 'Thriller', 'War', 'Western']\n"
     ]
    }
   ],
   "source": [
    "# Initialize a list to store all genres\n",
    "all_genres = []\n",
    "\n",
    "# Process each row and split genres\n",
    "for genre_str in df['Genre']:\n",
    "    if isinstance(genre_str, str):  # Check if it's a valid string\n",
    "        genres = genre_str.split(',')  # Split by comma\n",
    "        cleaned_genres = [genre.strip() for genre in genres]  # Remove whitespace\n",
    "        all_genres.extend(cleaned_genres)  # Add to global list\n",
    "\n",
    "# Get unique genres\n",
    "unique_genres = set(all_genres)\n",
    "\n",
    "# Display the result\n",
    "print(f\"Number of unique genres: {len(unique_genres)}\")\n",
    "print(\"\\nList of unique genres:\")\n",
    "print(sorted(unique_genres))"
   ]
  }
 ],
 "metadata": {
  "kernelspec": {
   "display_name": "Python 3 (ipykernel)",
   "language": "python",
   "name": "python3"
  },
  "language_info": {
   "codemirror_mode": {
    "name": "ipython",
    "version": 3
   },
   "file_extension": ".py",
   "mimetype": "text/x-python",
   "name": "python",
   "nbconvert_exporter": "python",
   "pygments_lexer": "ipython3",
   "version": "3.11.5"
  }
 },
 "nbformat": 4,
 "nbformat_minor": 4
}
